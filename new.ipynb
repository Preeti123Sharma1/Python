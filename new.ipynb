{
 "cells": [
  {
   "cell_type": "code",
   "execution_count": 6,
   "metadata": {
    "collapsed": true,
    "pycharm": {
     "is_executing": true
    }
   },
   "outputs": [
    {
     "name": "stdout",
     "output_type": "stream",
     "text": [
      "TONY STARK\n"
     ]
    }
   ],
   "source": [
    "# We convert all string in the capital letters.\n",
    "name = \"Tony Stark\"\n",
    "print(name.upper())"
   ]
  },
  {
   "cell_type": "code",
   "execution_count": 7,
   "metadata": {},
   "outputs": [
    {
     "name": "stdout",
     "output_type": "stream",
     "text": [
      "tony stark\n"
     ]
    }
   ],
   "source": [
    "# We convert all string in the small letters.\n",
    "name = \"Tony Stark\"\n",
    "print(name.lower())"
   ]
  },
  {
   "cell_type": "code",
   "execution_count": 8,
   "metadata": {},
   "outputs": [
    {
     "name": "stdout",
     "output_type": "stream",
     "text": [
      "5\n"
     ]
    }
   ],
   "source": [
    "# Find the string.\n",
    "name = \"Tony Stark\"\n",
    "print(name.find(\"S\"))"
   ]
  },
  {
   "cell_type": "code",
   "execution_count": 9,
   "metadata": {},
   "outputs": [
    {
     "name": "stdout",
     "output_type": "stream",
     "text": [
      "-1\n"
     ]
    }
   ],
   "source": [
    "# Find  \"s\" string .\n",
    "name = \"Tony Stark\"\n",
    "print(name.find(\"s\"))"
   ]
  },
  {
   "cell_type": "code",
   "execution_count": 10,
   "metadata": {},
   "outputs": [
    {
     "name": "stdout",
     "output_type": "stream",
     "text": [
      "Ironman\n"
     ]
    }
   ],
   "source": [
    "# For replacing the string, we use this code but it not change the origenal string.\n",
    "name = \"Tony Stark\"\n",
    "print(name.replace(\"Tony Stark\",\"Ironman\"))"
   ]
  },
  {
   "cell_type": "code",
   "execution_count": 11,
   "metadata": {},
   "outputs": [
    {
     "name": "stdout",
     "output_type": "stream",
     "text": [
      "True\n"
     ]
    }
   ],
   "source": [
    "# we use 'in' keyword for that word which we search are existing or not.\n",
    "name = \"Tony Stark\"\n",
    "print('T' in name)"
   ]
  },
  {
   "cell_type": "code",
   "execution_count": 13,
   "metadata": {},
   "outputs": [
    {
     "name": "stdout",
     "output_type": "stream",
     "text": [
      "False\n"
     ]
    }
   ],
   "source": [
    "name = \"Tony Stark\"\n",
    "print('M' in name)"
   ]
  },
  {
   "attachments": {},
   "cell_type": "markdown",
   "metadata": {},
   "source": [
    "# Arithmetic operators"
   ]
  },
  {
   "cell_type": "code",
   "execution_count": 16,
   "metadata": {},
   "outputs": [
    {
     "name": "stdout",
     "output_type": "stream",
     "text": [
      "7\n",
      "3\n",
      "10\n",
      "2.5\n",
      "2\n",
      "1\n",
      "25\n"
     ]
    }
   ],
   "source": [
    "print(5 + 2)\n",
    "print(5 - 2)\n",
    "print(5 * 2)\n",
    "print(5 / 2)\n",
    "print(5 // 2)\n",
    "print(5 % 2)\n",
    "print(5 ** 2)"
   ]
  },
  {
   "cell_type": "code",
   "execution_count": 27,
   "metadata": {},
   "outputs": [
    {
     "name": "stdout",
     "output_type": "stream",
     "text": [
      "sum = 7\n",
      "subtraction = 5\n",
      "multiplication = 10\n",
      "divide = 5.0\n"
     ]
    }
   ],
   "source": [
    "# shortcuts for arithmetic operators\n",
    "i = 5\n",
    "i += 2\n",
    "print(\"sum =\",i)\n",
    "i -= 2\n",
    "print(\"subtraction =\",i)\n",
    "i *= 2\n",
    "print(\"multiplication =\",i)\n",
    "i /= 2\n",
    "print(\"divide =\",i)"
   ]
  },
  {
   "attachments": {},
   "cell_type": "markdown",
   "metadata": {},
   "source": [
    "# Operator Precedence"
   ]
  },
  {
   "cell_type": "code",
   "execution_count": 4,
   "metadata": {},
   "outputs": [
    {
     "name": "stdout",
     "output_type": "stream",
     "text": [
      "16\n",
      "3.6666666666666665\n",
      "7.0\n"
     ]
    }
   ],
   "source": [
    "# In this we give the precedence of the operators.\n",
    "result = 4 + 2 * 6 \n",
    "print(result)\n",
    "\n",
    "result = 4 - 2 / 6 \n",
    "print(result)\n",
    "\n",
    "result = (4 - 3) + (2 * 6 /2) \n",
    "print(result)"
   ]
  },
  {
   "attachments": {},
   "cell_type": "markdown",
   "metadata": {},
   "source": [
    "# Comparision Operator"
   ]
  },
  {
   "cell_type": "code",
   "execution_count": 1,
   "metadata": {},
   "outputs": [
    {
     "name": "stdout",
     "output_type": "stream",
     "text": [
      "True\n"
     ]
    }
   ],
   "source": [
    "print(3 > 2)"
   ]
  },
  {
   "cell_type": "code",
   "execution_count": 5,
   "metadata": {},
   "outputs": [
    {
     "name": "stdout",
     "output_type": "stream",
     "text": [
      "False\n",
      "True\n"
     ]
    }
   ],
   "source": [
    "print(3 < 2)\n",
    "print( 5!= 3)"
   ]
  },
  {
   "cell_type": "code",
   "execution_count": 4,
   "metadata": {},
   "outputs": [
    {
     "name": "stdout",
     "output_type": "stream",
     "text": [
      "False\n",
      "True\n"
     ]
    }
   ],
   "source": [
    "print(4 == 2)\n",
    "print(4 == 4)"
   ]
  },
  {
   "attachments": {},
   "cell_type": "markdown",
   "metadata": {},
   "source": [
    "# Logical Operators\n",
    "### or , and , not "
   ]
  },
  {
   "cell_type": "code",
   "execution_count": 7,
   "metadata": {},
   "outputs": [
    {
     "name": "stdout",
     "output_type": "stream",
     "text": [
      "True\n",
      "True\n",
      "False\n"
     ]
    }
   ],
   "source": [
    "print( 2 > 1 or 3 < 2)  # If one condision is false then it return true.\n",
    "print( 4 > 2 or 2 < 3)\n",
    "print( 2 > 5 or 3 > 4)"
   ]
  },
  {
   "cell_type": "code",
   "execution_count": 8,
   "metadata": {},
   "outputs": [
    {
     "name": "stdout",
     "output_type": "stream",
     "text": [
      "False\n",
      "True\n",
      "False\n"
     ]
    }
   ],
   "source": [
    "print( 2 > 1 and 3 < 2)  # If one condision is false then it return false.\n",
    "print( 4 > 2 and 2 < 3)\n",
    "print( 2 > 5 and 3 > 4)"
   ]
  },
  {
   "cell_type": "code",
   "execution_count": 10,
   "metadata": {},
   "outputs": [
    {
     "name": "stdout",
     "output_type": "stream",
     "text": [
      "False\n"
     ]
    }
   ],
   "source": [
    "print( not 4 > 2) # It converts the reverse of the answer."
   ]
  },
  {
   "attachments": {},
   "cell_type": "markdown",
   "metadata": {},
   "source": [
    "### if , elif , else statements"
   ]
  },
  {
   "cell_type": "code",
   "execution_count": 16,
   "metadata": {},
   "outputs": [
    {
     "name": "stdout",
     "output_type": "stream",
     "text": [
      "you are adult \n",
      "you can vote\n"
     ]
    }
   ],
   "source": [
    "age = int(input(\"Enter the age : \"))\n",
    "\n",
    "if age >= 18:\n",
    "    print(\"you are adult \")\n",
    "    print(\"you can vote\")\n",
    "\n",
    "elif age < 18 and age >3:           # elif condition work when 'if' condition is false.\n",
    "    print (\"you are in school\")\n",
    "\n",
    "elif age <= 3:\n",
    "    print(\"you are child\")"
   ]
  },
  {
   "attachments": {},
   "cell_type": "markdown",
   "metadata": {},
   "source": [
    "# Range\n",
    "### eg: range(4) means  0,1,2,3"
   ]
  },
  {
   "cell_type": "code",
   "execution_count": 1,
   "metadata": {},
   "outputs": [
    {
     "name": "stdout",
     "output_type": "stream",
     "text": [
      "range(0, 6)\n"
     ]
    }
   ],
   "source": [
    "number = range(6)\n",
    "print(number)"
   ]
  },
  {
   "attachments": {},
   "cell_type": "markdown",
   "metadata": {},
   "source": [
    "# while loop :"
   ]
  },
  {
   "cell_type": "code",
   "execution_count": 2,
   "metadata": {},
   "outputs": [
    {
     "name": "stdout",
     "output_type": "stream",
     "text": [
      "1\n",
      "2\n",
      "3\n",
      "4\n",
      "5\n"
     ]
    }
   ],
   "source": [
    "i = 1\n",
    "while i <= 5:\n",
    "    print(i)\n",
    "    i = i + 1"
   ]
  },
  {
   "cell_type": "code",
   "execution_count": 4,
   "metadata": {},
   "outputs": [
    {
     "name": "stdout",
     "output_type": "stream",
     "text": [
      "*\n",
      "**\n",
      "***\n",
      "****\n",
      "*****\n",
      "******\n",
      "*******\n",
      "********\n"
     ]
    }
   ],
   "source": [
    "i = 1\n",
    "while i <= 8:\n",
    "    print(i * '*')\n",
    "    i = i + 1"
   ]
  },
  {
   "cell_type": "code",
   "execution_count": 7,
   "metadata": {},
   "outputs": [
    {
     "name": "stdout",
     "output_type": "stream",
     "text": [
      "******\n",
      "*****\n",
      "****\n",
      "***\n",
      "**\n",
      "*\n",
      "\n"
     ]
    }
   ],
   "source": [
    "i = 6\n",
    "while i >= 0:\n",
    "    print(i * \"*\")\n",
    "    i = i - 1"
   ]
  },
  {
   "cell_type": "code",
   "execution_count": null,
   "metadata": {},
   "outputs": [],
   "source": []
  }
 ],
 "metadata": {
  "kernelspec": {
   "display_name": "Python 3",
   "language": "python",
   "name": "python3"
  },
  "language_info": {
   "codemirror_mode": {
    "name": "ipython",
    "version": 3
   },
   "file_extension": ".py",
   "mimetype": "text/x-python",
   "name": "python",
   "nbconvert_exporter": "python",
   "pygments_lexer": "ipython3",
   "version": "3.9.12"
  }
 },
 "nbformat": 4,
 "nbformat_minor": 0
}
