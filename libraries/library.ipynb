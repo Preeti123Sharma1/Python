{
 "cells": [
  {
   "attachments": {},
   "cell_type": "markdown",
   "metadata": {},
   "source": [
    "# Python Libraries\n",
    "* Python library is a collection of functions and methods that allows you to perform many actions without writing your code."
   ]
  },
  {
   "attachments": {},
   "cell_type": "markdown",
   "metadata": {},
   "source": [
    "### Python NumPy\n",
    "* NumPy stands for Numerical python and is the core library for numeric and scientific computing.\n",
    "* It consits of multi-dimensional arry objects and a collection of routines for processing those arrays ."
   ]
  },
  {
   "cell_type": "code",
   "execution_count": 5,
   "metadata": {},
   "outputs": [
    {
     "name": "stdout",
     "output_type": "stream",
     "text": [
      "[1 2 3 4]\n"
     ]
    }
   ],
   "source": [
    "# Single Dimensional Array\n",
    "import numpy as np\n",
    "\n",
    "n1 = np.array([1, 2, 3, 4])\n",
    "print(n1)"
   ]
  },
  {
   "cell_type": "code",
   "execution_count": 8,
   "metadata": {},
   "outputs": [
    {
     "name": "stdout",
     "output_type": "stream",
     "text": [
      "[[4 5 6 7]\n",
      " [9 8 7 6]]\n"
     ]
    }
   ],
   "source": [
    "# Multi-dimensional Array\n",
    "import numpy as np \n",
    "\n",
    "n2 = np.array([[4, 5, 6, 7], [9, 8, 7, 6]])\n",
    "print(n2)"
   ]
  },
  {
   "cell_type": "code",
   "execution_count": null,
   "metadata": {},
   "outputs": [],
   "source": []
  }
 ],
 "metadata": {
  "kernelspec": {
   "display_name": "base",
   "language": "python",
   "name": "python3"
  },
  "language_info": {
   "codemirror_mode": {
    "name": "ipython",
    "version": 3
   },
   "file_extension": ".py",
   "mimetype": "text/x-python",
   "name": "python",
   "nbconvert_exporter": "python",
   "pygments_lexer": "ipython3",
   "version": "3.9.12"
  },
  "orig_nbformat": 4
 },
 "nbformat": 4,
 "nbformat_minor": 2
}
